{
 "cells": [
  {
   "cell_type": "code",
   "execution_count": 5,
   "metadata": {},
   "outputs": [
    {
     "name": "stdout",
     "output_type": "stream",
     "text": [
      "Intel MKL WARNING: Support of Intel(R) Streaming SIMD Extensions 4.2 (Intel(R) SSE4.2) enabled only processors has been deprecated. Intel oneAPI Math Kernel Library 2025.0 will require Intel(R) Advanced Vector Extensions (Intel(R) AVX) instructions.\n",
      "Intel MKL WARNING: Support of Intel(R) Streaming SIMD Extensions 4.2 (Intel(R) SSE4.2) enabled only processors has been deprecated. Intel oneAPI Math Kernel Library 2025.0 will require Intel(R) Advanced Vector Extensions (Intel(R) AVX) instructions.\n"
     ]
    }
   ],
   "source": [
    "from dataclasses import dataclass \n",
    "import equinox as eqx\n",
    "import jax\n",
    "import re"
   ]
  },
  {
   "cell_type": "code",
   "execution_count": 4,
   "metadata": {},
   "outputs": [],
   "source": [
    "@dataclass \n",
    "class GPTConfig: \n",
    "  block_size: int = 1024\n",
    "  vocab_size: int = 50304 \n",
    "  n_layer: int = 12\n",
    "  n_head: int = 12\n",
    "  n_embd: int = 768\n",
    "  dropout: float = 0.0\n",
    "  bias: bool = True"
   ]
  },
  {
   "cell_type": "code",
   "execution_count": 6,
   "metadata": {},
   "outputs": [],
   "source": [
    "class GPT(eqx.Module): \n",
    "  transformer: eqx.Module\n",
    "  lm_head: eqx.Module\n",
    "\n",
    "  def __init__(self, config): \n",
    "    pass \n",
    "\n",
    "  def __call__(self, x): \n",
    "    return x"
   ]
  },
  {
   "cell_type": "code",
   "execution_count": 37,
   "metadata": {},
   "outputs": [],
   "source": [
    "def clean(input_loc, output_loc): \n",
    "  with open(input_loc, 'r', encoding='utf-8') as f: \n",
    "    text = f.read()\n",
    "  # Remove leading spaces or tabs from the start of each line, not newlines\n",
    "  text = re.sub(r'(?m)^[ \\t]+', '', text)\n",
    "  \n",
    "  # Replace multiple spaces with a single space\n",
    "  text = re.sub(r'[ ]{2,}', ' ', text)\n",
    "\n",
    "  # Replace two or more newlines with exactly two newlines\n",
    "  text = re.sub(r'\\n{2,}', '\\n\\n', text)\n",
    "  with open(output_loc, 'w') as f: \n",
    "    f.write(text)"
   ]
  },
  {
   "cell_type": "code",
   "execution_count": 38,
   "metadata": {},
   "outputs": [],
   "source": [
    "clean('../nietzsche.txt', '../nietzsche_cleaned.txt')"
   ]
  }
 ],
 "metadata": {
  "kernelspec": {
   "display_name": "pebble",
   "language": "python",
   "name": "python3"
  },
  "language_info": {
   "codemirror_mode": {
    "name": "ipython",
    "version": 3
   },
   "file_extension": ".py",
   "mimetype": "text/x-python",
   "name": "python",
   "nbconvert_exporter": "python",
   "pygments_lexer": "ipython3",
   "version": "3.11.9"
  }
 },
 "nbformat": 4,
 "nbformat_minor": 2
}
